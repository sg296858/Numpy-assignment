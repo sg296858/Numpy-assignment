{
 "cells": [
  {
   "cell_type": "code",
   "execution_count": 1,
   "id": "c07c6acf-344e-4f20-bb6b-5fd7718a7e5e",
   "metadata": {},
   "outputs": [],
   "source": [
    "import numpy as np"
   ]
  },
  {
   "cell_type": "code",
   "execution_count": 3,
   "id": "eb7c6892-e5dd-4e07-afd8-54d5eb9a65bf",
   "metadata": {},
   "outputs": [],
   "source": [
    "#1. What is a Python library? Why ^o we use Python libraries?"
   ]
  },
  {
   "cell_type": "code",
   "execution_count": 2,
   "id": "9ca9c823-c935-435c-a25d-7b467959f100",
   "metadata": {},
   "outputs": [],
   "source": [
    "#What is python Library? A library is a collection of code that makes everyday tasks more efficient. Using Seaborn, for example, you can generate visualisations with just one line of code. \n",
    "#To create a chart from an object, you'd have to write a lot of code without a library like this."
   ]
  },
  {
   "cell_type": "code",
   "execution_count": 6,
   "id": "f927cde7-31c3-412b-9bec-a7543034ece3",
   "metadata": {},
   "outputs": [
    {
     "data": {
      "text/plain": [
       "'[[1, 2, 3, 4]\\n[5, 6, 7, 8],\\n[9, 10, 11, 12]]'"
      ]
     },
     "execution_count": 6,
     "metadata": {},
     "output_type": "execute_result"
    }
   ],
   "source": [
    "#3. Fin^ the shape, size an^ ^imension of the following array?\n",
    "'''[[1, 2, 3, 4]\n",
    "[5, 6, 7, 8],\n",
    "[9, 10, 11, 12]]'''"
   ]
  },
  {
   "cell_type": "code",
   "execution_count": 7,
   "id": "32eb1312-52de-4ed8-b69e-9a81e4ed3635",
   "metadata": {},
   "outputs": [
    {
     "data": {
      "text/plain": [
       "array([[ 1,  2,  3,  4],\n",
       "       [ 5,  6,  7,  8],\n",
       "       [ 9, 10, 11, 12]])"
      ]
     },
     "execution_count": 7,
     "metadata": {},
     "output_type": "execute_result"
    }
   ],
   "source": [
    "arr=np.array([[1,2,3,4],[5,6,7,8],[9,10,11,12]])\n",
    "arr"
   ]
  },
  {
   "cell_type": "code",
   "execution_count": 8,
   "id": "5f446740-6eca-4f00-9dfb-ab8e5968fcc1",
   "metadata": {},
   "outputs": [
    {
     "data": {
      "text/plain": [
       "(3, 4)"
      ]
     },
     "execution_count": 8,
     "metadata": {},
     "output_type": "execute_result"
    }
   ],
   "source": [
    "arr.shape"
   ]
  },
  {
   "cell_type": "code",
   "execution_count": 9,
   "id": "74040e53-eafc-46ec-a1aa-2a83290a447c",
   "metadata": {},
   "outputs": [
    {
     "data": {
      "text/plain": [
       "2"
      ]
     },
     "execution_count": 9,
     "metadata": {},
     "output_type": "execute_result"
    }
   ],
   "source": [
    "arr.ndim"
   ]
  },
  {
   "cell_type": "code",
   "execution_count": 10,
   "id": "96aa0d78-c9d0-40f3-995c-dc100c367d0b",
   "metadata": {},
   "outputs": [
    {
     "data": {
      "text/plain": [
       "12"
      ]
     },
     "execution_count": 10,
     "metadata": {},
     "output_type": "execute_result"
    }
   ],
   "source": [
    "arr.size"
   ]
  },
  {
   "cell_type": "code",
   "execution_count": 11,
   "id": "2e80126b-5f5f-44d4-8edc-d9356de4c01e",
   "metadata": {},
   "outputs": [],
   "source": [
    "#4. Write python co^e to access the first row of the following array?"
   ]
  },
  {
   "cell_type": "code",
   "execution_count": 12,
   "id": "58e170c2-ee1c-4157-9492-d2c4ec8994a3",
   "metadata": {},
   "outputs": [
    {
     "data": {
      "text/plain": [
       "array([1, 2, 3, 4])"
      ]
     },
     "execution_count": 12,
     "metadata": {},
     "output_type": "execute_result"
    }
   ],
   "source": [
    "arr[0]"
   ]
  },
  {
   "cell_type": "code",
   "execution_count": 13,
   "id": "d8f942b9-7e67-43e8-842b-4d9e3733a2bd",
   "metadata": {},
   "outputs": [],
   "source": [
    "#5. How ^o you access the element at the thir^ row an^ fourth column from the given numpy array?"
   ]
  },
  {
   "cell_type": "code",
   "execution_count": 15,
   "id": "b56202e8-b9e3-4eae-aaae-95b041b61845",
   "metadata": {},
   "outputs": [
    {
     "data": {
      "text/plain": [
       "12"
      ]
     },
     "execution_count": 15,
     "metadata": {},
     "output_type": "execute_result"
    }
   ],
   "source": [
    "arr[2][3]"
   ]
  },
  {
   "cell_type": "code",
   "execution_count": 16,
   "id": "d6fe7cd1-f15c-45c0-a78d-9ae9dccf730d",
   "metadata": {},
   "outputs": [],
   "source": [
    "#Write co^e to extract all o^^-in^exe^ elements from the given numpy array?"
   ]
  },
  {
   "cell_type": "code",
   "execution_count": 17,
   "id": "0051a907-a169-40ec-83ae-91325f2d0229",
   "metadata": {},
   "outputs": [
    {
     "data": {
      "text/plain": [
       "array([ 1,  3,  5,  7,  9, 11])"
      ]
     },
     "execution_count": 17,
     "metadata": {},
     "output_type": "execute_result"
    }
   ],
   "source": [
    "arr[arr%2!=0]"
   ]
  },
  {
   "cell_type": "code",
   "execution_count": 18,
   "id": "d0286737-b152-47ba-829d-1b0dd9e04807",
   "metadata": {},
   "outputs": [],
   "source": [
    "#7. How can you generate a ran^om 3x3 matrix with values between 0 an^ 1?"
   ]
  },
  {
   "cell_type": "code",
   "execution_count": 21,
   "id": "c6d4d881-e060-4a01-a014-57cab5f79e32",
   "metadata": {},
   "outputs": [
    {
     "data": {
      "text/plain": [
       "array([[0, 0, 0],\n",
       "       [0, 0, 0],\n",
       "       [0, 0, 0]])"
      ]
     },
     "execution_count": 21,
     "metadata": {},
     "output_type": "execute_result"
    }
   ],
   "source": [
    "ar=np.random.randint(0,1 ,(3,3))\n",
    "ar"
   ]
  },
  {
   "cell_type": "code",
   "execution_count": 22,
   "id": "49bff984-7ec4-4e16-8b83-192824fd396c",
   "metadata": {},
   "outputs": [],
   "source": [
    "#8. Describe the ^ifference between np.ran^om.ran^ an^ np.ran^om.ran^n?"
   ]
  },
  {
   "cell_type": "code",
   "execution_count": 23,
   "id": "4a086020-0075-4181-8fab-2744ae1fb7e5",
   "metadata": {},
   "outputs": [],
   "source": [
    "#np.random.randn :It generates the number between [0,1) by using normal distribution wheras np.random.rand it generates the number \n",
    "#between [0,1) by using standarad gaussian distribution(mean 0 and variance 1)"
   ]
  },
  {
   "cell_type": "code",
   "execution_count": 24,
   "id": "0219a6d9-ebe0-40f6-ae2e-6fd33d56ef29",
   "metadata": {},
   "outputs": [],
   "source": [
    "#10. How to transpose the following array in NumPy?"
   ]
  },
  {
   "cell_type": "code",
   "execution_count": 25,
   "id": "07897eb4-8caa-412a-b321-db9ee01d8d79",
   "metadata": {},
   "outputs": [
    {
     "data": {
      "text/plain": [
       "array([[ 1,  5,  9],\n",
       "       [ 2,  6, 10],\n",
       "       [ 3,  7, 11],\n",
       "       [ 4,  8, 12]])"
      ]
     },
     "execution_count": 25,
     "metadata": {},
     "output_type": "execute_result"
    }
   ],
   "source": [
    "arr.T"
   ]
  },
  {
   "cell_type": "code",
   "execution_count": 27,
   "id": "bfa7efd2-d00e-42d2-aa3c-3174b70e0000",
   "metadata": {},
   "outputs": [],
   "source": [
    "#11. Consi^er the following matrix:\n",
    "#Matrix A2 [[1, 2, 3, 4] [5, 6, 7, 8],[9, 10, 11, 12]]\n",
    "#Matrix B2 [[1, 2, 3, 4] [5, 6, 7, 8],[9, 10, 11, 12]]\n",
    " #Index wiLe multiplication\n",
    "# Matix multiplication\n",
    "# Add both the maticK\n",
    "# Subtact matix B from A\n",
    "#Diide Matix B by A"
   ]
  },
  {
   "cell_type": "code",
   "execution_count": 37,
   "id": "7839dde5-f92c-418e-a743-faff7e517263",
   "metadata": {},
   "outputs": [],
   "source": [
    "matA2=np.array([[1,2,3,4],[5,6,7,8],[9,10,11,12]])\n",
    "matB2=np.array([[1,2,3,4],[5,6,7,8],[9,10,11,12]])"
   ]
  },
  {
   "cell_type": "code",
   "execution_count": 38,
   "id": "13425767-519f-45cb-91e2-dc759ce17cbc",
   "metadata": {},
   "outputs": [
    {
     "data": {
      "text/plain": [
       "array([[ 1,  2,  3,  4],\n",
       "       [ 5,  6,  7,  8],\n",
       "       [ 9, 10, 11, 12]])"
      ]
     },
     "execution_count": 38,
     "metadata": {},
     "output_type": "execute_result"
    }
   ],
   "source": [
    "matA2"
   ]
  },
  {
   "cell_type": "code",
   "execution_count": 39,
   "id": "2445bf46-3629-41ea-984e-00590516e50a",
   "metadata": {},
   "outputs": [
    {
     "data": {
      "text/plain": [
       "array([[ 1,  2,  3,  4],\n",
       "       [ 5,  6,  7,  8],\n",
       "       [ 9, 10, 11, 12]])"
      ]
     },
     "execution_count": 39,
     "metadata": {},
     "output_type": "execute_result"
    }
   ],
   "source": [
    "matB2"
   ]
  },
  {
   "cell_type": "code",
   "execution_count": 40,
   "id": "09f6bd8e-a9f4-49b2-b474-51241af78e3f",
   "metadata": {},
   "outputs": [
    {
     "data": {
      "text/plain": [
       "array([[  1,   4,   9,  16],\n",
       "       [ 25,  36,  49,  64],\n",
       "       [ 81, 100, 121, 144]])"
      ]
     },
     "execution_count": 40,
     "metadata": {},
     "output_type": "execute_result"
    }
   ],
   "source": [
    "matA2*matB2"
   ]
  },
  {
   "cell_type": "code",
   "execution_count": 48,
   "id": "9b500ca0-2928-4907-ad26-ce62c623d132",
   "metadata": {},
   "outputs": [],
   "source": [
    "#matA2@matB2"
   ]
  },
  {
   "cell_type": "code",
   "execution_count": 49,
   "id": "24f5ab76-0d9a-4ca5-b5ef-2edf501ed3ef",
   "metadata": {},
   "outputs": [
    {
     "data": {
      "text/plain": [
       "array([[ 2,  4,  6,  8],\n",
       "       [10, 12, 14, 16],\n",
       "       [18, 20, 22, 24]])"
      ]
     },
     "execution_count": 49,
     "metadata": {},
     "output_type": "execute_result"
    }
   ],
   "source": [
    "matA2+matB2"
   ]
  },
  {
   "cell_type": "code",
   "execution_count": 50,
   "id": "527a02d2-c1f8-4467-8f48-bdfb83c21bce",
   "metadata": {},
   "outputs": [
    {
     "data": {
      "text/plain": [
       "array([[0, 0, 0, 0],\n",
       "       [0, 0, 0, 0],\n",
       "       [0, 0, 0, 0]])"
      ]
     },
     "execution_count": 50,
     "metadata": {},
     "output_type": "execute_result"
    }
   ],
   "source": [
    "matB2-matA2"
   ]
  },
  {
   "cell_type": "code",
   "execution_count": 51,
   "id": "dc59984d-c646-459c-a26c-b48d34ab082d",
   "metadata": {},
   "outputs": [
    {
     "data": {
      "text/plain": [
       "array([[1., 1., 1., 1.],\n",
       "       [1., 1., 1., 1.],\n",
       "       [1., 1., 1., 1.]])"
      ]
     },
     "execution_count": 51,
     "metadata": {},
     "output_type": "execute_result"
    }
   ],
   "source": [
    "matB2/matA2"
   ]
  },
  {
   "cell_type": "code",
   "execution_count": 52,
   "id": "c7f05659-f6a0-4f5c-9df3-805a380c7ec2",
   "metadata": {},
   "outputs": [],
   "source": [
    "#Which function in Numpy can be use^ to swap the byte or^er of an array?"
   ]
  },
  {
   "cell_type": "code",
   "execution_count": 54,
   "id": "577296d6-1a47-4a2d-8677-52eafdd051d4",
   "metadata": {},
   "outputs": [
    {
     "name": "stdout",
     "output_type": "stream",
     "text": [
      "[  256     1 25600]\n"
     ]
    }
   ],
   "source": [
    "#The ndarray.byteswap() method swaps the bytes of the array elements. It toggles between low-endian and big-endian data representation by returning a byteswapped array, optionally swapped in-place.\n",
    "\n",
    "#Note: byteswap() method does not work on arrays of strings.\n",
    "\n",
    "#Example\n",
    " \n",
    "# Python program explaining  \n",
    "# byteswap() function  \n",
    "import numpy as geek \n",
    "  \n",
    "# a is an array of integers. \n",
    "a = geek.array([1, 256, 100], dtype = np.int16) \n",
    "   \n",
    "print(a.byteswap(True)) "
   ]
  },
  {
   "cell_type": "code",
   "execution_count": 56,
   "id": "f89d8926-4f5d-4401-af81-215492863813",
   "metadata": {},
   "outputs": [],
   "source": [
    "#What is the significance of the np.linalg.inv function?:to inverse the matrix"
   ]
  },
  {
   "cell_type": "code",
   "execution_count": 57,
   "id": "ef1930c4-27d7-47d0-8c33-2fe259316cfe",
   "metadata": {},
   "outputs": [],
   "source": [
    "from numpy.linalg import inv"
   ]
  },
  {
   "cell_type": "code",
   "execution_count": 60,
   "id": "0b980e3d-ae74-4301-a66d-f25386d75033",
   "metadata": {},
   "outputs": [
    {
     "data": {
      "text/plain": [
       "array([[-2. ,  1. ],\n",
       "       [ 1.5, -0.5]])"
      ]
     },
     "execution_count": 60,
     "metadata": {},
     "output_type": "execute_result"
    }
   ],
   "source": [
    "a = np.array([[1., 2.], [3., 4.]])\n",
    "ainv = inv(a)\n",
    "ainv"
   ]
  },
  {
   "cell_type": "code",
   "execution_count": 61,
   "id": "1c97d217-cdca-4b7a-8e4b-2e6193078ba4",
   "metadata": {},
   "outputs": [],
   "source": [
    "#What ^oes the np.reshape function ^o, an^ how is it use^?"
   ]
  },
  {
   "cell_type": "code",
   "execution_count": 62,
   "id": "111ed79c-780d-4302-8c24-aaf2965af4cf",
   "metadata": {},
   "outputs": [],
   "source": [
    "#The . reshape() function rearranges the data in an ndarray into a new shape. The new shape must be compatible with the old one, though an index of -1 can\n",
    "#be used to infer one dimension."
   ]
  },
  {
   "cell_type": "code",
   "execution_count": 63,
   "id": "7005cff9-8c3d-4f97-a7ff-2226668ecec6",
   "metadata": {},
   "outputs": [],
   "source": [
    "#What is broa^casting in Numpy?"
   ]
  },
  {
   "cell_type": "code",
   "execution_count": 64,
   "id": "3868171a-17e7-44d5-aa08-db47cc29e52c",
   "metadata": {},
   "outputs": [],
   "source": [
    "#The term broadcasting describes how NumPy treats arrays with different shapes during arithmetic operations. Subject to certain constraints, the smaller array is “broadcast” across the larger array so that they have compatible shapes."
   ]
  },
  {
   "cell_type": "code",
   "execution_count": 65,
   "id": "863d22cf-afac-46ba-8250-b5585851b5c6",
   "metadata": {},
   "outputs": [],
   "source": [
    "#9. Write co^e to increase the ^imension of the following array?"
   ]
  },
  {
   "cell_type": "code",
   "execution_count": 66,
   "id": "dab8274a-1313-4e86-8c4d-9ca5bb08155c",
   "metadata": {},
   "outputs": [
    {
     "data": {
      "text/plain": [
       "array([[ 1,  2,  3,  4],\n",
       "       [ 5,  6,  7,  8],\n",
       "       [ 9, 10, 11, 12]])"
      ]
     },
     "execution_count": 66,
     "metadata": {},
     "output_type": "execute_result"
    }
   ],
   "source": [
    "arr"
   ]
  },
  {
   "cell_type": "code",
   "execution_count": 67,
   "id": "fd83df5c-85de-4803-87d4-625b036547d9",
   "metadata": {},
   "outputs": [
    {
     "data": {
      "text/plain": [
       "2"
      ]
     },
     "execution_count": 67,
     "metadata": {},
     "output_type": "execute_result"
    }
   ],
   "source": [
    "arr.ndim"
   ]
  },
  {
   "cell_type": "code",
   "execution_count": 68,
   "id": "21e24539-592d-4c6c-8eef-6f52ec44f959",
   "metadata": {},
   "outputs": [
    {
     "data": {
      "text/plain": [
       "array([[ 1,  2,  3],\n",
       "       [ 4,  5,  6],\n",
       "       [ 7,  8,  9],\n",
       "       [10, 11, 12]])"
      ]
     },
     "execution_count": 68,
     "metadata": {},
     "output_type": "execute_result"
    }
   ],
   "source": [
    "arr.reshape(4,3)"
   ]
  },
  {
   "cell_type": "code",
   "execution_count": 70,
   "id": "6e56e6eb-0b16-4d16-9f21-974ae4957d48",
   "metadata": {},
   "outputs": [
    {
     "data": {
      "text/plain": [
       "array([[ 1,  2],\n",
       "       [ 3,  4],\n",
       "       [ 5,  6],\n",
       "       [ 7,  8],\n",
       "       [ 9, 10],\n",
       "       [11, 12]])"
      ]
     },
     "execution_count": 70,
     "metadata": {},
     "output_type": "execute_result"
    }
   ],
   "source": [
    "arr.reshape(6,2)"
   ]
  }
 ],
 "metadata": {
  "kernelspec": {
   "display_name": "Python 3 (ipykernel)",
   "language": "python",
   "name": "python3"
  },
  "language_info": {
   "codemirror_mode": {
    "name": "ipython",
    "version": 3
   },
   "file_extension": ".py",
   "mimetype": "text/x-python",
   "name": "python",
   "nbconvert_exporter": "python",
   "pygments_lexer": "ipython3",
   "version": "3.10.8"
  }
 },
 "nbformat": 4,
 "nbformat_minor": 5
}
